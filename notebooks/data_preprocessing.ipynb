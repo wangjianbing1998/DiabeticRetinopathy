{
 "cells": [
  {
   "cell_type": "code",
   "execution_count": null,
   "metadata": {},
   "outputs": [],
   "source": [
    "import os, sys\n",
    "import numpy as np\n",
    "import pandas as pd\n",
    "import matplotlib.pyplot as plt\n",
    "from tqdm import tqdm\n",
    "import PIL\n",
    "from PIL import Image, ImageOps\n",
    "import cv2\n",
    "from sklearn.utils import class_weight, shuffle\n",
    "from keras.losses import binary_crossentropy\n",
    "from keras.applications.resnet50 import preprocess_input\n",
    "import keras.backend as K\n",
    "import tensorflow as tf\n",
    "from sklearn.metrics import f1_score, fbeta_score\n",
    "from keras.utils import Sequence\n",
    "from keras.utils import to_categorical\n",
    "from sklearn.model_selection import train_test_split\n",
    "from tqdm import tqdm_notebook\n",
    "\n",
    "WORKERS = 2\n",
    "CHANNEL = 3\n",
    "\n",
    "import warnings\n",
    "warnings.filterwarnings(\"ignore\")\n",
    "IMG_SIZE = 512\n",
    "NUM_CLASSES = 5\n",
    "SEED = 77\n",
    "TRAIN_NUM = 1000 # use 1000 when you just want to explore new idea, use -1 for full train"
   ]
  },
  {
   "cell_type": "markdown",
   "metadata": {},
   "source": [
    "＃ 先探索，再建模。\n",
    "\n",
    "改善模型性能的一种直观方法是简单地改善输入图像的质量：\n",
    "\n",
    "- **减少照明条件的影响**：拍摄图片的光源强度相差较大，视网膜部位亮暗差别尤为明显，有些图像非常暗并且难以可视化。可以尝试将图像转换为灰度，并且可视化效果更好，采用阈值灰度化处理后的视网膜明暗差别缩小许多\n",
    "- **区域模糊处理**：视网膜部分在整张图片中占比非常小，经过灰度化处理后的外围斑点与视网膜形状过于接近而难以区分，采用高斯核对外围斑点进行圆形模糊后可有效突出视网膜部分"
   ]
  },
  {
   "cell_type": "code",
   "execution_count": null,
   "metadata": {},
   "outputs": [],
   "source": [
    "df_train = pd.read_csv('../data/train.csv')\n",
    "df_test = pd.read_csv('../data/test.csv')\n",
    "\n",
    "x = df_train['id_code']\n",
    "y = df_train['diagnosis']\n",
    "\n",
    "x, y = shuffle(x, y, random_state=SEED)"
   ]
  },
  {
   "cell_type": "code",
   "execution_count": null,
   "metadata": {},
   "outputs": [],
   "source": [
    "train_x, valid_x, train_y, valid_y = train_test_split(x, y, test_size=0.15,\n",
    "                                                      stratify=y, random_state=SEED)\n",
    "print(train_x.shape, train_y.shape, valid_x.shape, valid_y.shape)\n",
    "train_y.hist()\n",
    "valid_y.hist()"
   ]
  },
  {
   "cell_type": "markdown",
   "metadata": {},
   "source": [
    "## 解释糖尿病性视网膜病变的简单图片\n",
    "我们怎么知道患者患有糖尿病性视网膜病？ 至少有5件东西可以发现。 图片来源\n",
    "![image.png](https://sa1s3optim.patientpop.com/assets/images/provider/photos/1947516.jpeg)\n",
    "\n",
    "- 通过对数据的快速调查（请参见下面的各种图片），我发现很容易观察到出血性细菌，硬性渗出液和棉绒斑点。\n"
   ]
  },
  {
   "cell_type": "markdown",
   "metadata": {},
   "source": [
    "# 通过自动裁剪进一步改善\n",
    "\n",
    "- 要裁剪出在pic（0,1），pic（0,3）和pic（4,1）上显而易见的黑色区域，我们可以尝试自动裁剪。 \n",
    "- 我从[Stackoverflow](https://stackoverflow.com/questions/13538748/crop-black-edges-with-opencv)和[codereview](https://codereview.stackexchange.com/questions/132914/crop-black-border-of)-找到了备用代码 \n",
    "- 幸运的是，一种方法可以完美地用于灰度图像，但没有一种方法可以用于彩色图像。 \n",
    "- 我修改了在灰度级上工作的方法，使其适用于彩色图像。"
   ]
  },
  {
   "cell_type": "code",
   "execution_count": null,
   "metadata": {},
   "outputs": [],
   "source": [
    "def crop_image_from_gray(img,tol=7):\n",
    "    if img.ndim ==2:\n",
    "        mask = img>tol\n",
    "        return img[np.ix_(mask.any(1),mask.any(0))]\n",
    "    elif img.ndim==3:\n",
    "        gray_img = cv2.cvtColor(img, cv2.COLOR_RGB2GRAY)\n",
    "        mask = gray_img>tol\n",
    "        \n",
    "        check_shape = img[:,:,0][np.ix_(mask.any(1),mask.any(0))].shape[0]\n",
    "        if (check_shape == 0): # image is too dark so that we crop out everything,\n",
    "            return img # return original image\n",
    "        else:\n",
    "            img1=img[:,:,0][np.ix_(mask.any(1),mask.any(0))]\n",
    "            img2=img[:,:,1][np.ix_(mask.any(1),mask.any(0))]\n",
    "            img3=img[:,:,2][np.ix_(mask.any(1),mask.any(0))]\n",
    "            img = np.stack([img1,img2,img3],axis=-1)\n",
    "        return img"
   ]
  },
  {
   "cell_type": "markdown",
   "metadata": {},
   "source": [
    "## 尝试裁剪图像\n",
    "\n",
    "我已经测试了大约200张图像，该方法效果很好。\n"
   ]
  },
  {
   "cell_type": "markdown",
   "metadata": {},
   "source": [
    "## 关于裁剪和预处理的彩色版本的重要更新\n",
    "\n",
    "- 起初，当我在写这个的时候，我无法很好地进行彩色裁剪，因此我认为灰度是更好的表示。 现在，我相信颜色版本会更好，因此从这一点开始，我将使用颜色裁剪\n",
    "\n",
    "- 以下是彩色版本的裁剪图。 对于彩色版本，请注意，我使用了cv2.GaussianBlur的参数sigmaX = 30，其中的tutorial实际使用了sigmaX = 10，这可能会有更好的性能。 我只是觉得这sigmaX = 30或sigmaX = 50可以拍出漂亮的黄色月亮图片。 \n",
    "- 请参考[tutorial](https://www.tutorialkart.com/opencv/python/opencv-python-gaussian-image-smoothing/)"
   ]
  },
  {
   "cell_type": "code",
   "execution_count": null,
   "metadata": {},
   "outputs": [],
   "source": [
    "def load_ben_color(path, sigmaX=10):\n",
    "    image = cv2.imread(path)\n",
    "    image = cv2.cvtColor(image, cv2.COLOR_BGR2RGB)\n",
    "    image = crop_image_from_gray(image)\n",
    "    image = cv2.resize(image, (IMG_SIZE, IMG_SIZE))\n",
    "    image=cv2.addWeighted ( image,4, cv2.GaussianBlur( image , (0,0) , sigmaX) ,-4 ,128)\n",
    "        \n",
    "    return image"
   ]
  },
  {
   "cell_type": "markdown",
   "metadata": {},
   "source": [
    "# Create Dataset"
   ]
  },
  {
   "cell_type": "code",
   "execution_count": null,
   "metadata": {},
   "outputs": [],
   "source": [
    "df_old = pd.read_csv('../data/diabetic-retinopathy-resized/trainLabels.csv')"
   ]
  },
  {
   "cell_type": "code",
   "execution_count": null,
   "metadata": {},
   "outputs": [],
   "source": [
    "save_dir = \"../data/diabetic-retinopathy-resized/ben_preprocessing_sigmaX10\"\n",
    "if not os.path.exists(save_dir):\n",
    "    os.mkdir(save_dir)\n",
    "\n",
    "for idx, row in tqdm_notebook(df_old.iterrows()):\n",
    "    path=f\"../data/diabetic-retinopathy-resized/resized_train/{row['image']}.jpeg\"\n",
    "    image = load_ben_color(path,sigmaX=10)\n",
    "    Image.fromarray(image).save(os.path.join(save_dir, \"{}.png\".format(row['image'])))"
   ]
  },
  {
   "cell_type": "code",
   "execution_count": null,
   "metadata": {},
   "outputs": [],
   "source": [
    "save_dir = \"../data/aptos2019-blindness-detection/train_images_ben_preprocessing_sigmaX10\"\n",
    "if not os.path.exists(save_dir):\n",
    "    os.mkdir(save_dir)\n",
    "\n",
    "for idx, row in tqdm_notebook(df_train.iterrows()):\n",
    "    path=f\"../data/aptos2019-blindness-detection/train_images/{row['id_code']}.png\"\n",
    "    image = load_ben_color(path,sigmaX=10)\n",
    "    Image.fromarray(image).save(os.path.join(save_dir, \"{}.png\".format(row['id_code'])))"
   ]
  },
  {
   "cell_type": "code",
   "execution_count": null,
   "metadata": {},
   "outputs": [],
   "source": [
    "save_dir = \"../data/aptos2019-blindness-detection/test_images_ben_preprocessing_sigmaX10\"\n",
    "if not os.path.exists(save_dir):\n",
    "    os.mkdir(save_dir)\n",
    "\n",
    "for idx, row in tqdm_notebook(df_test.iterrows()):\n",
    "    path=f\"../data/aptos2019-blindness-detection/test_images/{row['id_code']}.png\"\n",
    "    image = load_ben_color(path,sigmaX=10)\n",
    "    Image.fromarray(image).save(os.path.join(save_dir, \"{}.png\".format(row['id_code'])))"
   ]
  }
 ],
 "metadata": {
  "kernelspec": {
   "display_name": "Python 3",
   "language": "python",
   "name": "python3"
  },
  "language_info": {
   "codemirror_mode": {
    "name": "ipython",
    "version": 3
   },
   "file_extension": ".py",
   "mimetype": "text/x-python",
   "name": "python",
   "nbconvert_exporter": "python",
   "pygments_lexer": "ipython3",
   "version": "3.7.3"
  },
  "toc": {
   "base_numbering": 1,
   "nav_menu": {},
   "number_sections": true,
   "sideBar": true,
   "skip_h1_title": false,
   "title_cell": "Table of Contents",
   "title_sidebar": "Contents",
   "toc_cell": false,
   "toc_position": {},
   "toc_section_display": true,
   "toc_window_display": true
  }
 },
 "nbformat": 4,
 "nbformat_minor": 2
}
